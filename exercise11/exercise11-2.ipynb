{
 "cells": [
  {
   "cell_type": "code",
   "execution_count": 1,
   "metadata": {},
   "outputs": [],
   "source": [
    "import numpy as np\n",
    "import matplotlib.pyplot as plt\n",
    "import tensorflow as tf\n",
    "from tensorflow import keras\n",
    "\n",
    "from tensorflow.keras.models import Sequential\n",
    "from tensorflow.keras.layers import Dense, Activation\n",
    "from tensorflow.keras import backend as K\n",
    "from tensorflow.keras.utils import get_custom_objects"
   ]
  },
  {
   "cell_type": "markdown",
   "metadata": {},
   "source": [
    "##### Exercise 11.2"
   ]
  },
  {
   "cell_type": "code",
   "execution_count": 2,
   "metadata": {},
   "outputs": [],
   "source": [
    "# Superparameters\n",
    "n_epochs = 40\n",
    "n_neurons = [6, 1]\n",
    "activation_functions = [\"tanh\", \"relu\"]\n",
    "# The output (for each run) is a single number, so\n",
    "# the last layer must have a single unit.\n",
    "n_layers = len(n_neurons)\n",
    "n_training_data = 100"
   ]
  },
  {
   "cell_type": "code",
   "execution_count": 3,
   "metadata": {},
   "outputs": [],
   "source": [
    "# Generate training inputs\n",
    "np.random.seed(0)\n",
    "in_training   = np.random.uniform(-1, 1, n_training_data)\n",
    "in_validation = np.random.uniform(-1, 1, 50)\n",
    "in_validation.sort()\n",
    "\n",
    "def polynomial3(x, p):\n",
    "    return p[0] + p[1] * x + p[2] * x**2 + p[3] * x**3\n",
    "target_parameters = [4, -3, -2, 3]\n",
    "out_target = polynomial3(in_validation, target_parameters)\n",
    "# This is the data set that the machine should learn to calculate.\n",
    "\n",
    "sigma = 0.1 # Standard deviation of Gaussian noise (zero ATM)\n",
    "out_training   = np.random.normal(polynomial3(in_training, target_parameters), sigma)\n",
    "out_validation = np.random.normal(polynomial3(in_validation, target_parameters), sigma)"
   ]
  },
  {
   "cell_type": "markdown",
   "metadata": {},
   "source": [
    "###### Definition of the neural network"
   ]
  },
  {
   "cell_type": "code",
   "execution_count": 4,
   "metadata": {},
   "outputs": [],
   "source": [
    "model = tf.keras.Sequential()\n",
    "for layer in range(n_layers):\n",
    "    if layer == 0:\n",
    "        model.add(Dense(\n",
    "            n_neurons[layer],\n",
    "            input_shape = (1,),\n",
    "            activation = activation_functions[layer]\n",
    "        ))\n",
    "    else:\n",
    "        model.add(Dense(\n",
    "            n_neurons[layer],\n",
    "            activation = activation_functions[layer]\n",
    "        ))\n",
    "    \n",
    "# Compile the model choosing the optimizer, loss and metrics objects.\n",
    "model.compile(optimizer = \"sgd\", loss = \"mean_absolute_error\", metrics = [\"mse\"])"
   ]
  },
  {
   "cell_type": "markdown",
   "metadata": {},
   "source": [
    "###### Summary of the model"
   ]
  },
  {
   "cell_type": "code",
   "execution_count": 5,
   "metadata": {},
   "outputs": [
    {
     "name": "stdout",
     "output_type": "stream",
     "text": [
      "_________________________________________________________________\n",
      "Layer (type)                 Output Shape              Param #   \n",
      "=================================================================\n",
      "dense (Dense)                (None, 6)                 12        \n",
      "_________________________________________________________________\n",
      "dense_1 (Dense)              (None, 1)                 7         \n",
      "=================================================================\n",
      "Total params: 19\n",
      "Trainable params: 19\n",
      "Non-trainable params: 0\n",
      "_________________________________________________________________\n"
     ]
    }
   ],
   "source": [
    "model.summary()"
   ]
  },
  {
   "cell_type": "markdown",
   "metadata": {},
   "source": [
    "###### Training"
   ]
  },
  {
   "cell_type": "code",
   "execution_count": 6,
   "metadata": {
    "scrolled": true
   },
   "outputs": [
    {
     "name": "stdout",
     "output_type": "stream",
     "text": [
      "Train on 100 samples, validate on 50 samples\n",
      "Epoch 1/40\n",
      "100/100 [==============================] - 0s 4ms/step - loss: 3.0581 - mean_squared_error: 10.1478 - val_loss: 3.0314 - val_mean_squared_error: 9.9752\n",
      "Epoch 2/40\n",
      "100/100 [==============================] - 0s 105us/step - loss: 3.0184 - mean_squared_error: 9.8812 - val_loss: 3.0069 - val_mean_squared_error: 9.7938\n",
      "Epoch 3/40\n",
      "100/100 [==============================] - 0s 92us/step - loss: 2.9793 - mean_squared_error: 9.6306 - val_loss: 2.9781 - val_mean_squared_error: 9.5851\n",
      "Epoch 4/40\n",
      "100/100 [==============================] - 0s 91us/step - loss: 2.9310 - mean_squared_error: 9.3197 - val_loss: 2.9336 - val_mean_squared_error: 9.2711\n",
      "Epoch 5/40\n",
      "100/100 [==============================] - 0s 97us/step - loss: 2.8691 - mean_squared_error: 8.9363 - val_loss: 2.8896 - val_mean_squared_error: 8.9694\n",
      "Epoch 6/40\n",
      "100/100 [==============================] - 0s 91us/step - loss: 2.8099 - mean_squared_error: 8.5711 - val_loss: 2.8424 - val_mean_squared_error: 8.6549\n",
      "Epoch 7/40\n",
      "100/100 [==============================] - 0s 91us/step - loss: 2.7494 - mean_squared_error: 8.2078 - val_loss: 2.7930 - val_mean_squared_error: 8.3361\n",
      "Epoch 8/40\n",
      "100/100 [==============================] - 0s 91us/step - loss: 2.6864 - mean_squared_error: 7.8505 - val_loss: 2.7316 - val_mean_squared_error: 7.9538\n",
      "Epoch 9/40\n",
      "100/100 [==============================] - 0s 93us/step - loss: 2.6128 - mean_squared_error: 7.4341 - val_loss: 2.6690 - val_mean_squared_error: 7.5795\n",
      "Epoch 10/40\n",
      "100/100 [==============================] - 0s 93us/step - loss: 2.5421 - mean_squared_error: 7.0510 - val_loss: 2.5969 - val_mean_squared_error: 7.1641\n",
      "Epoch 11/40\n",
      "100/100 [==============================] - 0s 91us/step - loss: 2.4631 - mean_squared_error: 6.6437 - val_loss: 2.5178 - val_mean_squared_error: 6.7242\n",
      "Epoch 12/40\n",
      "100/100 [==============================] - 0s 94us/step - loss: 2.3752 - mean_squared_error: 6.1881 - val_loss: 2.4338 - val_mean_squared_error: 6.2775\n",
      "Epoch 13/40\n",
      "100/100 [==============================] - 0s 94us/step - loss: 2.2835 - mean_squared_error: 5.7363 - val_loss: 2.3408 - val_mean_squared_error: 5.8006\n",
      "Epoch 14/40\n",
      "100/100 [==============================] - 0s 91us/step - loss: 2.1790 - mean_squared_error: 5.2540 - val_loss: 2.2450 - val_mean_squared_error: 5.3182\n",
      "Epoch 15/40\n",
      "100/100 [==============================] - 0s 91us/step - loss: 2.0746 - mean_squared_error: 4.7793 - val_loss: 2.1419 - val_mean_squared_error: 4.8355\n",
      "Epoch 16/40\n",
      "100/100 [==============================] - 0s 91us/step - loss: 1.9735 - mean_squared_error: 4.3366 - val_loss: 2.0351 - val_mean_squared_error: 4.3662\n",
      "Epoch 17/40\n",
      "100/100 [==============================] - 0s 91us/step - loss: 1.8670 - mean_squared_error: 3.8882 - val_loss: 1.9145 - val_mean_squared_error: 3.8743\n",
      "Epoch 18/40\n",
      "100/100 [==============================] - 0s 95us/step - loss: 1.7527 - mean_squared_error: 3.4377 - val_loss: 1.7842 - val_mean_squared_error: 3.3818\n",
      "Epoch 19/40\n",
      "100/100 [==============================] - 0s 92us/step - loss: 1.6326 - mean_squared_error: 3.0063 - val_loss: 1.6505 - val_mean_squared_error: 2.9159\n",
      "Epoch 20/40\n",
      "100/100 [==============================] - 0s 95us/step - loss: 1.5108 - mean_squared_error: 2.5944 - val_loss: 1.5222 - val_mean_squared_error: 2.4984\n",
      "Epoch 21/40\n",
      "100/100 [==============================] - 0s 102us/step - loss: 1.3915 - mean_squared_error: 2.2181 - val_loss: 1.3989 - val_mean_squared_error: 2.1401\n",
      "Epoch 22/40\n",
      "100/100 [==============================] - 0s 98us/step - loss: 1.2836 - mean_squared_error: 1.9157 - val_loss: 1.2712 - val_mean_squared_error: 1.7941\n",
      "Epoch 23/40\n",
      "100/100 [==============================] - 0s 102us/step - loss: 1.1705 - mean_squared_error: 1.6106 - val_loss: 1.1384 - val_mean_squared_error: 1.4755\n",
      "Epoch 24/40\n",
      "100/100 [==============================] - 0s 92us/step - loss: 1.0551 - mean_squared_error: 1.3367 - val_loss: 1.0023 - val_mean_squared_error: 1.1890\n",
      "Epoch 25/40\n",
      "100/100 [==============================] - 0s 102us/step - loss: 0.9407 - mean_squared_error: 1.0947 - val_loss: 0.8978 - val_mean_squared_error: 1.0001\n",
      "Epoch 26/40\n",
      "100/100 [==============================] - 0s 123us/step - loss: 0.8546 - mean_squared_error: 0.9390 - val_loss: 0.7691 - val_mean_squared_error: 0.7897\n",
      "Epoch 27/40\n",
      "100/100 [==============================] - 0s 96us/step - loss: 0.7524 - mean_squared_error: 0.7715 - val_loss: 0.6486 - val_mean_squared_error: 0.6199\n",
      "Epoch 28/40\n",
      "100/100 [==============================] - 0s 101us/step - loss: 0.6593 - mean_squared_error: 0.6400 - val_loss: 0.5558 - val_mean_squared_error: 0.4961\n",
      "Epoch 29/40\n",
      "100/100 [==============================] - 0s 96us/step - loss: 0.5875 - mean_squared_error: 0.5507 - val_loss: 0.5141 - val_mean_squared_error: 0.4380\n",
      "Epoch 30/40\n",
      "100/100 [==============================] - 0s 100us/step - loss: 0.5547 - mean_squared_error: 0.5084 - val_loss: 0.4712 - val_mean_squared_error: 0.3829\n",
      "Epoch 31/40\n",
      "100/100 [==============================] - 0s 100us/step - loss: 0.5254 - mean_squared_error: 0.4725 - val_loss: 0.4532 - val_mean_squared_error: 0.3540\n",
      "Epoch 32/40\n",
      "100/100 [==============================] - 0s 93us/step - loss: 0.5148 - mean_squared_error: 0.4588 - val_loss: 0.4505 - val_mean_squared_error: 0.3497\n",
      "Epoch 33/40\n",
      "100/100 [==============================] - 0s 101us/step - loss: 0.5126 - mean_squared_error: 0.4575 - val_loss: 0.4411 - val_mean_squared_error: 0.3310\n",
      "Epoch 34/40\n",
      "100/100 [==============================] - 0s 123us/step - loss: 0.5076 - mean_squared_error: 0.4485 - val_loss: 0.4355 - val_mean_squared_error: 0.3243\n",
      "Epoch 35/40\n",
      "100/100 [==============================] - 0s 120us/step - loss: 0.5058 - mean_squared_error: 0.4481 - val_loss: 0.4270 - val_mean_squared_error: 0.3116\n",
      "Epoch 36/40\n",
      "100/100 [==============================] - 0s 110us/step - loss: 0.5014 - mean_squared_error: 0.4464 - val_loss: 0.4313 - val_mean_squared_error: 0.3162\n",
      "Epoch 37/40\n",
      "100/100 [==============================] - 0s 92us/step - loss: 0.5025 - mean_squared_error: 0.4434 - val_loss: 0.4267 - val_mean_squared_error: 0.3106\n",
      "Epoch 38/40\n",
      "100/100 [==============================] - 0s 94us/step - loss: 0.5004 - mean_squared_error: 0.4436 - val_loss: 0.4235 - val_mean_squared_error: 0.3060\n",
      "Epoch 39/40\n",
      "100/100 [==============================] - 0s 92us/step - loss: 0.4985 - mean_squared_error: 0.4417 - val_loss: 0.4202 - val_mean_squared_error: 0.3022\n",
      "Epoch 40/40\n",
      "100/100 [==============================] - 0s 91us/step - loss: 0.4975 - mean_squared_error: 0.4421 - val_loss: 0.4153 - val_mean_squared_error: 0.2911\n"
     ]
    }
   ],
   "source": [
    "# Evaluate the model using the \"training\" dataset,\n",
    "# over 10 epochs of 32 batch size each\n",
    "history = model.fit(\n",
    "    x = in_training,\n",
    "    y = out_training,\n",
    "    batch_size = 32,\n",
    "    epochs = n_epochs,\n",
    "    shuffle = True, # It is a good idea to shuffle the input before each epoch.\n",
    "    validation_data = (in_validation, out_validation)\n",
    ")"
   ]
  },
  {
   "cell_type": "code",
   "execution_count": 7,
   "metadata": {
    "scrolled": true
   },
   "outputs": [
    {
     "data": {
      "image/png": "[encoded data removed]",
      "text/plain": [
       "<Figure size 432x360 with 1 Axes>"
      ]
     },
     "metadata": {},
     "output_type": "display_data"
    }
   ],
   "source": [
    "# look into training history\n",
    "# Plot training & validation loss values\n",
    "fig, axes = plt.subplots(nrows = 1, ncols = 1, figsize = (6, 5))\n",
    "\n",
    "axes.plot(history.history[\"loss\"]) # Loss on training samples\n",
    "axes.plot(history.history[\"val_loss\"]) # Loss on validation samples\n",
    "axes.set_title(\"Model loss\")\n",
    "axes.set_ylabel(\"Loss\")\n",
    "axes.set_xlabel(\"Epoch\")\n",
    "axes.legend([\"Train\", \"Test\"], loc = \"best\")\n",
    "\n",
    "plt.show()"
   ]
  },
  {
   "cell_type": "markdown",
   "metadata": {},
   "source": [
    "###### Predictions"
   ]
  },
  {
   "cell_type": "code",
   "execution_count": 8,
   "metadata": {},
   "outputs": [
    {
     "data": {
      "image/png": "[encoded data removed]",
      "text/plain": [
       "<Figure size 432x288 with 1 Axes>"
      ]
     },
     "metadata": {},
     "output_type": "display_data"
    }
   ],
   "source": [
    "in_predicted = np.random.uniform(-1, 1, 100)\n",
    "out_predicted = model.predict(in_predicted)\n",
    "plt.scatter(in_predicted, out_predicted, color = \"red\", label = \"Prediction\")\n",
    "plt.plot(in_validation, out_target)\n",
    "# in_target == in_validation\n",
    "plt.grid(True)\n",
    "plt.show()"
   ]
  },
  {
   "cell_type": "code",
   "execution_count": null,
   "metadata": {},
   "outputs": [],
   "source": []
  }
 ],
 "metadata": {
  "kernelspec": {
   "display_name": "Python 3",
   "language": "python",
   "name": "python3"
  },
  "language_info": {
   "codemirror_mode": {
    "name": "ipython",
    "version": 3
   },
   "file_extension": ".py",
   "mimetype": "text/x-python",
   "name": "python",
   "nbconvert_exporter": "python",
   "pygments_lexer": "ipython3",
   "version": "3.6.8"
  }
 },
 "nbformat": 4,
 "nbformat_minor": 2
}
