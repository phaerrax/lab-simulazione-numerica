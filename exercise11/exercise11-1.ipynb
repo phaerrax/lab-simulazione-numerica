{
 "cells": [
  {
   "cell_type": "code",
   "execution_count": 1,
   "metadata": {},
   "outputs": [],
   "source": [
    "import numpy as np\n",
    "import matplotlib.pyplot as plt\n",
    "import tensorflow as tf\n",
    "from tensorflow import keras\n",
    "\n",
    "from tensorflow.keras.models import Sequential\n",
    "from tensorflow.keras.layers import Dense, Activation\n",
    "from tensorflow.keras import backend as K\n",
    "from tensorflow.keras.utils import get_custom_objects"
   ]
  },
  {
   "cell_type": "markdown",
   "metadata": {},
   "source": [
    "##### Exercise 11.1"
   ]
  },
  {
   "cell_type": "code",
   "execution_count": 2,
   "metadata": {},
   "outputs": [],
   "source": [
    "# Superparameters\n",
    "n_epochs = 60\n",
    "n_training_data = 1000"
   ]
  },
  {
   "cell_type": "code",
   "execution_count": 3,
   "metadata": {},
   "outputs": [],
   "source": [
    "# Generate training inputs\n",
    "np.random.seed(0)\n",
    "in_training   = np.random.uniform(-1, 1, n_training_data)\n",
    "in_validation = np.random.uniform(-1, 1, 10)\n",
    "in_validation.sort()\n",
    "\n",
    "a = 2\n",
    "b = 1\n",
    "out_target = a * in_validation + b\n",
    "# This is the data set that the machine should learn to calculate.\n",
    "\n",
    "sigma = 0.2 # Standard deviation of Gaussian noise (zero ATM)\n",
    "out_training   = np.random.normal(a * in_training + b, sigma) # Actual measures, from which we want to guess regression parameters.\n",
    "out_validation = np.random.normal(a * in_validation + b, sigma)"
   ]
  },
  {
   "cell_type": "markdown",
   "metadata": {},
   "source": [
    "###### Definition of the neural network"
   ]
  },
  {
   "cell_type": "code",
   "execution_count": 4,
   "metadata": {},
   "outputs": [],
   "source": [
    "model = tf.keras.Sequential()\n",
    "model.add(Dense(1, input_shape = (1,)))\n",
    "# Compile the model choosing the optimizer, loss and metrics objects.\n",
    "model.compile(optimizer = \"sgd\", loss = \"mse\", metrics = [\"mse\"])"
   ]
  },
  {
   "cell_type": "markdown",
   "metadata": {},
   "source": [
    "###### Summary of the model"
   ]
  },
  {
   "cell_type": "code",
   "execution_count": 5,
   "metadata": {},
   "outputs": [
    {
     "name": "stdout",
     "output_type": "stream",
     "text": [
      "_________________________________________________________________\n",
      "Layer (type)                 Output Shape              Param #   \n",
      "=================================================================\n",
      "dense (Dense)                (None, 1)                 2         \n",
      "=================================================================\n",
      "Total params: 2\n",
      "Trainable params: 2\n",
      "Non-trainable params: 0\n",
      "_________________________________________________________________\n"
     ]
    }
   ],
   "source": [
    "model.summary()"
   ]
  },
  {
   "cell_type": "markdown",
   "metadata": {},
   "source": [
    "###### Training"
   ]
  },
  {
   "cell_type": "code",
   "execution_count": 6,
   "metadata": {},
   "outputs": [
    {
     "name": "stdout",
     "output_type": "stream",
     "text": [
      "Train on 1000 samples, validate on 10 samples\n",
      "Epoch 1/60\n",
      "1000/1000 [==============================] - 0s 288us/step - loss: 1.0263 - mean_squared_error: 1.0263 - val_loss: 0.7514 - val_mean_squared_error: 0.7514\n",
      "Epoch 2/60\n",
      "1000/1000 [==============================] - 0s 15us/step - loss: 0.4673 - mean_squared_error: 0.4673 - val_loss: 0.4126 - val_mean_squared_error: 0.4126\n",
      "Epoch 3/60\n",
      "1000/1000 [==============================] - 0s 14us/step - loss: 0.2563 - mean_squared_error: 0.2563 - val_loss: 0.2571 - val_mean_squared_error: 0.2571\n",
      "Epoch 4/60\n",
      "1000/1000 [==============================] - 0s 14us/step - loss: 0.1625 - mean_squared_error: 0.1625 - val_loss: 0.1735 - val_mean_squared_error: 0.1735\n",
      "Epoch 5/60\n",
      "1000/1000 [==============================] - 0s 14us/step - loss: 0.1140 - mean_squared_error: 0.1140 - val_loss: 0.1234 - val_mean_squared_error: 0.1234\n",
      "Epoch 6/60\n",
      "1000/1000 [==============================] - 0s 14us/step - loss: 0.0861 - mean_squared_error: 0.0861 - val_loss: 0.0915 - val_mean_squared_error: 0.0915\n",
      "Epoch 7/60\n",
      "1000/1000 [==============================] - 0s 13us/step - loss: 0.0688 - mean_squared_error: 0.0688 - val_loss: 0.0707 - val_mean_squared_error: 0.0707\n",
      "Epoch 8/60\n",
      "1000/1000 [==============================] - 0s 13us/step - loss: 0.0578 - mean_squared_error: 0.0578 - val_loss: 0.0568 - val_mean_squared_error: 0.0568\n",
      "Epoch 9/60\n",
      "1000/1000 [==============================] - 0s 13us/step - loss: 0.0506 - mean_squared_error: 0.0506 - val_loss: 0.0477 - val_mean_squared_error: 0.0477\n",
      "Epoch 10/60\n",
      "1000/1000 [==============================] - 0s 13us/step - loss: 0.0460 - mean_squared_error: 0.0460 - val_loss: 0.0416 - val_mean_squared_error: 0.0416\n",
      "Epoch 11/60\n",
      "1000/1000 [==============================] - 0s 13us/step - loss: 0.0430 - mean_squared_error: 0.0430 - val_loss: 0.0375 - val_mean_squared_error: 0.0375\n",
      "Epoch 12/60\n",
      "1000/1000 [==============================] - 0s 14us/step - loss: 0.0411 - mean_squared_error: 0.0411 - val_loss: 0.0344 - val_mean_squared_error: 0.0344\n",
      "Epoch 13/60\n",
      "1000/1000 [==============================] - 0s 13us/step - loss: 0.0398 - mean_squared_error: 0.0398 - val_loss: 0.0328 - val_mean_squared_error: 0.0328\n",
      "Epoch 14/60\n",
      "1000/1000 [==============================] - 0s 14us/step - loss: 0.0389 - mean_squared_error: 0.0389 - val_loss: 0.0315 - val_mean_squared_error: 0.0315\n",
      "Epoch 15/60\n",
      "1000/1000 [==============================] - 0s 14us/step - loss: 0.0384 - mean_squared_error: 0.0384 - val_loss: 0.0307 - val_mean_squared_error: 0.0307\n",
      "Epoch 16/60\n",
      "1000/1000 [==============================] - 0s 14us/step - loss: 0.0380 - mean_squared_error: 0.0380 - val_loss: 0.0299 - val_mean_squared_error: 0.0299\n",
      "Epoch 17/60\n",
      "1000/1000 [==============================] - 0s 14us/step - loss: 0.0378 - mean_squared_error: 0.0378 - val_loss: 0.0295 - val_mean_squared_error: 0.0295\n",
      "Epoch 18/60\n",
      "1000/1000 [==============================] - 0s 14us/step - loss: 0.0377 - mean_squared_error: 0.0377 - val_loss: 0.0292 - val_mean_squared_error: 0.0292\n",
      "Epoch 19/60\n",
      "1000/1000 [==============================] - 0s 13us/step - loss: 0.0376 - mean_squared_error: 0.0376 - val_loss: 0.0287 - val_mean_squared_error: 0.0287\n",
      "Epoch 20/60\n",
      "1000/1000 [==============================] - 0s 13us/step - loss: 0.0375 - mean_squared_error: 0.0375 - val_loss: 0.0284 - val_mean_squared_error: 0.0284\n",
      "Epoch 21/60\n",
      "1000/1000 [==============================] - 0s 14us/step - loss: 0.0375 - mean_squared_error: 0.0375 - val_loss: 0.0282 - val_mean_squared_error: 0.0282\n",
      "Epoch 22/60\n",
      "1000/1000 [==============================] - 0s 14us/step - loss: 0.0375 - mean_squared_error: 0.0375 - val_loss: 0.0283 - val_mean_squared_error: 0.0283\n",
      "Epoch 23/60\n",
      "1000/1000 [==============================] - 0s 15us/step - loss: 0.0375 - mean_squared_error: 0.0375 - val_loss: 0.0282 - val_mean_squared_error: 0.0282\n",
      "Epoch 24/60\n",
      "1000/1000 [==============================] - 0s 15us/step - loss: 0.0375 - mean_squared_error: 0.0375 - val_loss: 0.0283 - val_mean_squared_error: 0.0283\n",
      "Epoch 25/60\n",
      "1000/1000 [==============================] - 0s 14us/step - loss: 0.0374 - mean_squared_error: 0.0374 - val_loss: 0.0281 - val_mean_squared_error: 0.0281\n",
      "Epoch 26/60\n",
      "1000/1000 [==============================] - 0s 14us/step - loss: 0.0374 - mean_squared_error: 0.0374 - val_loss: 0.0281 - val_mean_squared_error: 0.0281\n",
      "Epoch 27/60\n",
      "1000/1000 [==============================] - 0s 14us/step - loss: 0.0374 - mean_squared_error: 0.0374 - val_loss: 0.0280 - val_mean_squared_error: 0.0280\n",
      "Epoch 28/60\n",
      "1000/1000 [==============================] - 0s 15us/step - loss: 0.0374 - mean_squared_error: 0.0374 - val_loss: 0.0282 - val_mean_squared_error: 0.0282\n",
      "Epoch 29/60\n",
      "1000/1000 [==============================] - 0s 15us/step - loss: 0.0374 - mean_squared_error: 0.0374 - val_loss: 0.0281 - val_mean_squared_error: 0.0281\n",
      "Epoch 30/60\n",
      "1000/1000 [==============================] - 0s 14us/step - loss: 0.0374 - mean_squared_error: 0.0374 - val_loss: 0.0282 - val_mean_squared_error: 0.0282\n",
      "Epoch 31/60\n",
      "1000/1000 [==============================] - 0s 13us/step - loss: 0.0374 - mean_squared_error: 0.0374 - val_loss: 0.0282 - val_mean_squared_error: 0.0282\n",
      "Epoch 32/60\n",
      "1000/1000 [==============================] - 0s 14us/step - loss: 0.0374 - mean_squared_error: 0.0374 - val_loss: 0.0280 - val_mean_squared_error: 0.0280\n",
      "Epoch 33/60\n",
      "1000/1000 [==============================] - 0s 13us/step - loss: 0.0374 - mean_squared_error: 0.0374 - val_loss: 0.0281 - val_mean_squared_error: 0.0281\n",
      "Epoch 34/60\n",
      "1000/1000 [==============================] - 0s 14us/step - loss: 0.0374 - mean_squared_error: 0.0374 - val_loss: 0.0282 - val_mean_squared_error: 0.0282\n",
      "Epoch 35/60\n",
      "1000/1000 [==============================] - 0s 14us/step - loss: 0.0375 - mean_squared_error: 0.0375 - val_loss: 0.0284 - val_mean_squared_error: 0.0284\n",
      "Epoch 36/60\n",
      "1000/1000 [==============================] - 0s 14us/step - loss: 0.0374 - mean_squared_error: 0.0374 - val_loss: 0.0287 - val_mean_squared_error: 0.0287\n",
      "Epoch 37/60\n",
      "1000/1000 [==============================] - 0s 14us/step - loss: 0.0374 - mean_squared_error: 0.0374 - val_loss: 0.0281 - val_mean_squared_error: 0.0281\n",
      "Epoch 38/60\n",
      "1000/1000 [==============================] - 0s 14us/step - loss: 0.0374 - mean_squared_error: 0.0374 - val_loss: 0.0282 - val_mean_squared_error: 0.0282\n",
      "Epoch 39/60\n",
      "1000/1000 [==============================] - 0s 15us/step - loss: 0.0374 - mean_squared_error: 0.0374 - val_loss: 0.0280 - val_mean_squared_error: 0.0280\n",
      "Epoch 40/60\n",
      "1000/1000 [==============================] - 0s 14us/step - loss: 0.0374 - mean_squared_error: 0.0374 - val_loss: 0.0283 - val_mean_squared_error: 0.0283\n",
      "Epoch 41/60\n",
      "1000/1000 [==============================] - 0s 15us/step - loss: 0.0374 - mean_squared_error: 0.0374 - val_loss: 0.0283 - val_mean_squared_error: 0.0283\n",
      "Epoch 42/60\n",
      "1000/1000 [==============================] - 0s 14us/step - loss: 0.0374 - mean_squared_error: 0.0374 - val_loss: 0.0283 - val_mean_squared_error: 0.0283\n",
      "Epoch 43/60\n",
      "1000/1000 [==============================] - 0s 14us/step - loss: 0.0374 - mean_squared_error: 0.0374 - val_loss: 0.0282 - val_mean_squared_error: 0.0282\n",
      "Epoch 44/60\n",
      "1000/1000 [==============================] - 0s 14us/step - loss: 0.0374 - mean_squared_error: 0.0374 - val_loss: 0.0281 - val_mean_squared_error: 0.0281\n",
      "Epoch 45/60\n",
      "1000/1000 [==============================] - 0s 14us/step - loss: 0.0374 - mean_squared_error: 0.0374 - val_loss: 0.0282 - val_mean_squared_error: 0.0282\n",
      "Epoch 46/60\n",
      "1000/1000 [==============================] - 0s 14us/step - loss: 0.0374 - mean_squared_error: 0.0374 - val_loss: 0.0281 - val_mean_squared_error: 0.0281\n",
      "Epoch 47/60\n",
      "1000/1000 [==============================] - 0s 14us/step - loss: 0.0374 - mean_squared_error: 0.0374 - val_loss: 0.0279 - val_mean_squared_error: 0.0279\n",
      "Epoch 48/60\n",
      "1000/1000 [==============================] - 0s 14us/step - loss: 0.0374 - mean_squared_error: 0.0374 - val_loss: 0.0279 - val_mean_squared_error: 0.0279\n",
      "Epoch 49/60\n",
      "1000/1000 [==============================] - 0s 14us/step - loss: 0.0374 - mean_squared_error: 0.0374 - val_loss: 0.0281 - val_mean_squared_error: 0.0281\n",
      "Epoch 50/60\n"
     ]
    },
    {
     "name": "stdout",
     "output_type": "stream",
     "text": [
      "1000/1000 [==============================] - 0s 14us/step - loss: 0.0374 - mean_squared_error: 0.0374 - val_loss: 0.0280 - val_mean_squared_error: 0.0280\n",
      "Epoch 51/60\n",
      "1000/1000 [==============================] - 0s 14us/step - loss: 0.0374 - mean_squared_error: 0.0374 - val_loss: 0.0283 - val_mean_squared_error: 0.0283\n",
      "Epoch 52/60\n",
      "1000/1000 [==============================] - 0s 14us/step - loss: 0.0374 - mean_squared_error: 0.0374 - val_loss: 0.0284 - val_mean_squared_error: 0.0284\n",
      "Epoch 53/60\n",
      "1000/1000 [==============================] - 0s 14us/step - loss: 0.0374 - mean_squared_error: 0.0374 - val_loss: 0.0284 - val_mean_squared_error: 0.0284\n",
      "Epoch 54/60\n",
      "1000/1000 [==============================] - 0s 13us/step - loss: 0.0374 - mean_squared_error: 0.0374 - val_loss: 0.0285 - val_mean_squared_error: 0.0285\n",
      "Epoch 55/60\n",
      "1000/1000 [==============================] - 0s 14us/step - loss: 0.0374 - mean_squared_error: 0.0374 - val_loss: 0.0285 - val_mean_squared_error: 0.0285\n",
      "Epoch 56/60\n",
      "1000/1000 [==============================] - 0s 14us/step - loss: 0.0374 - mean_squared_error: 0.0374 - val_loss: 0.0283 - val_mean_squared_error: 0.0283\n",
      "Epoch 57/60\n",
      "1000/1000 [==============================] - 0s 14us/step - loss: 0.0374 - mean_squared_error: 0.0374 - val_loss: 0.0282 - val_mean_squared_error: 0.0282\n",
      "Epoch 58/60\n",
      "1000/1000 [==============================] - 0s 14us/step - loss: 0.0374 - mean_squared_error: 0.0374 - val_loss: 0.0283 - val_mean_squared_error: 0.0283\n",
      "Epoch 59/60\n",
      "1000/1000 [==============================] - 0s 13us/step - loss: 0.0374 - mean_squared_error: 0.0374 - val_loss: 0.0282 - val_mean_squared_error: 0.0282\n",
      "Epoch 60/60\n",
      "1000/1000 [==============================] - 0s 14us/step - loss: 0.0374 - mean_squared_error: 0.0374 - val_loss: 0.0282 - val_mean_squared_error: 0.0282\n"
     ]
    }
   ],
   "source": [
    "# Evaluate the model using the \"training\" dataset,\n",
    "# over 10 epochs of 32 batch size each\n",
    "history = model.fit(\n",
    "    x = in_training,\n",
    "    y = out_training,\n",
    "    batch_size = 32,\n",
    "    epochs = n_epochs,\n",
    "    shuffle = True, # It is a good idea to shuffle the input before each epoch.\n",
    "    validation_data = (in_validation, out_validation)\n",
    ")"
   ]
  },
  {
   "cell_type": "code",
   "execution_count": 7,
   "metadata": {},
   "outputs": [
    {
     "data": {
      "text/plain": [
       "[array([[1.9895346]], dtype=float32), array([1.0053424], dtype=float32)]"
      ]
     },
     "execution_count": 7,
     "metadata": {},
     "output_type": "execute_result"
    }
   ],
   "source": [
    "model.get_weights()"
   ]
  },
  {
   "cell_type": "code",
   "execution_count": 8,
   "metadata": {},
   "outputs": [
    {
     "name": "stdout",
     "output_type": "stream",
     "text": [
      "10/10 [==============================] - 0s 51us/step\n",
      "Test loss:  0.028211262077093124\n",
      "Test accuracy:  0.028211262077093124\n"
     ]
    }
   ],
   "source": [
    "test_loss, test_accuracy = model.evaluate(\n",
    "    in_validation,\n",
    "    out_validation,\n",
    "    batch_size = 32,\n",
    "    verbose = 1\n",
    ")\n",
    "\n",
    "print(\"Test loss: \", test_loss)\n",
    "print(\"Test accuracy: \", test_accuracy)"
   ]
  },
  {
   "cell_type": "code",
   "execution_count": 9,
   "metadata": {
    "scrolled": true
   },
   "outputs": [
    {
     "data": {
      "image/png": "[encoded data removed]",
      "text/plain": [
       "<Figure size 432x360 with 1 Axes>"
      ]
     },
     "metadata": {},
     "output_type": "display_data"
    }
   ],
   "source": [
    "# look into training history\n",
    "# Plot training & validation loss values\n",
    "fig, axes = plt.subplots(nrows = 1, ncols = 1, figsize = (6, 5))\n",
    "\n",
    "axes.plot(history.history[\"loss\"])\n",
    "axes.plot(history.history[\"val_loss\"])\n",
    "axes.set_title(\"Model loss\")\n",
    "axes.set_ylabel(\"Loss\")\n",
    "axes.set_xlabel(\"Epoch\")\n",
    "axes.legend([\"Train\", \"Test\"], loc = \"best\")\n",
    "\n",
    "plt.show()"
   ]
  },
  {
   "cell_type": "markdown",
   "metadata": {},
   "source": [
    "###### Predictions"
   ]
  },
  {
   "cell_type": "code",
   "execution_count": 10,
   "metadata": {},
   "outputs": [
    {
     "data": {
      "image/png": "[encoded data removed]",
      "text/plain": [
       "<Figure size 432x288 with 1 Axes>"
      ]
     },
     "metadata": {},
     "output_type": "display_data"
    }
   ],
   "source": [
    "in_predicted = np.random.uniform(-1, 1, 100)\n",
    "out_predicted = model.predict(in_predicted)\n",
    "plt.scatter(in_predicted, out_predicted, color = \"red\", label = \"Prediction\")\n",
    "plt.plot(in_validation, out_target)\n",
    "# in_target == in_validation\n",
    "plt.grid(True)\n",
    "plt.show()"
   ]
  },
  {
   "cell_type": "markdown",
   "metadata": {},
   "source": [
    "###### Comments\n",
    "It seems that the higher the number of \"training data points\" is, the better the result, but this of course comes at the cost of an increased computation time.\n",
    "60 epochs and 1000 training data points are enough to estimate the parameters correctly within three significant digits."
   ]
  }
 ],
 "metadata": {
  "kernelspec": {
   "display_name": "Python 3",
   "language": "python",
   "name": "python3"
  },
  "language_info": {
   "codemirror_mode": {
    "name": "ipython",
    "version": 3
   },
   "file_extension": ".py",
   "mimetype": "text/x-python",
   "name": "python",
   "nbconvert_exporter": "python",
   "pygments_lexer": "ipython3",
   "version": "3.6.8"
  }
 },
 "nbformat": 4,
 "nbformat_minor": 2
}
