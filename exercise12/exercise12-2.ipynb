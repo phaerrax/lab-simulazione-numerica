{
 "cells": [
  {
   "cell_type": "code",
   "execution_count": 1,
   "metadata": {},
   "outputs": [],
   "source": [
    "import tensorflow as tf\n",
    "from tensorflow import keras\n",
    "import os\n",
    "import numpy as np\n",
    "import matplotlib.pyplot as plt\n",
    "\n",
    "# Initialise random number generators.\n",
    "seed = 0\n",
    "np.random.seed(seed)\n",
    "tf.set_random_seed(seed)"
   ]
  },
  {
   "cell_type": "markdown",
   "metadata": {},
   "source": [
    "###### Importing MNIST database"
   ]
  },
  {
   "cell_type": "code",
   "execution_count": 2,
   "metadata": {},
   "outputs": [
    {
     "name": "stderr",
     "output_type": "stream",
     "text": [
      "Using TensorFlow backend.\n"
     ]
    }
   ],
   "source": [
    "from keras.datasets import mnist\n",
    "\n",
    "# Define the dimensions (in pixels) of the input images.\n",
    "# Each pixel will correspond to a value of a matrix.\n",
    "img_width = 28\n",
    "img_height = 28\n",
    "\n",
    "# Define the form of the output.\n",
    "# The machine will try to classify the input in one of ten digits.\n",
    "n_classes = 10\n",
    "\n",
    "# Download the database\n",
    "(in_training, out_training), (in_validation, out_validation) = mnist.load_data()\n",
    "\n",
    "# Reshape the input data.\n",
    "# x.shape[0] is the number of samples.\n",
    "if keras.backend.image_data_format() == \"channels_first\":\n",
    "    in_training = in_training.reshape(in_training.shape[0], 1, img_width, img_height)\n",
    "    in_validation = in_validation.reshape(in_validation.shape[0], 1, img_width, img_height)\n",
    "    input_shape = (1, img_width, img_height)\n",
    "else:\n",
    "    in_training = in_training.reshape(in_training.shape[0], img_width, img_height, 1)\n",
    "    in_validation = in_validation.reshape(in_validation.shape[0], img_width, img_height, 1)\n",
    "    input_shape = (img_width, img_height, 1)\n",
    "\n",
    "# MNIST gives data as integers from 0 to 255 (= grayscale level of the pixel).\n",
    "# I need it to be a value between 0 and 1, so I will rescale it.\n",
    "in_training = in_training.astype(\"float32\")\n",
    "in_validation = in_validation.astype(\"float32\")\n",
    "in_training /= 255\n",
    "in_validation /= 255\n",
    "\n",
    "# The output will be a 10-entries vector, each value representing the probability\n",
    "# that the corresponding digit is the correct one.\n",
    "# The output data needs to be \"converted\" in this format.\n",
    "out_training = keras.utils.to_categorical(out_training, n_classes)\n",
    "out_validation = keras.utils.to_categorical(out_validation, n_classes)"
   ]
  },
  {
   "cell_type": "markdown",
   "metadata": {},
   "source": [
    "###### Definition of the neural network"
   ]
  },
  {
   "cell_type": "code",
   "execution_count": 3,
   "metadata": {},
   "outputs": [],
   "source": [
    "from keras.models import Sequential\n",
    "from keras.layers import Dense, Dropout, Flatten, Conv2D, MaxPooling2D\n",
    "\n",
    "model = Sequential()\n",
    "\n",
    "# Add input convolutional layer.\n",
    "model.add(Conv2D(\n",
    "    10, # dimension of the output space\n",
    "    kernel_size = (5, 5), # height and width of the convolution window\n",
    "    padding = \"same\",\n",
    "    activation = \"relu\",\n",
    "    input_shape = input_shape\n",
    "))\n",
    "\n",
    "model.add(Dropout(0.2))\n",
    "\n",
    "# Add a middle pooling layer, and then some.\n",
    "model.add(MaxPooling2D(\n",
    "    pool_size = (2, 2),\n",
    "    strides = 2,\n",
    "    padding = \"same\"\n",
    "    # \"same\" padding adds zeros beyond the limits of the pooled array\n",
    "    # so that every value is included in the calculations.\n",
    "    # \"valid\" padding stops when it reaches the end of the array,\n",
    "    # dropping the values at the borders if thery cannot be included\n",
    "    # in the pool.\n",
    "))\n",
    "\n",
    "# Add a Flatten model to transition from a convolution layer to a\n",
    "# linear layer.\n",
    "model.add(Flatten())\n",
    "\n",
    "# The finaly layer is necessarily a ten-neurons linear layer,\n",
    "# since it must classify the data in ten classes.\n",
    "model.add(Dense(\n",
    "    n_classes,\n",
    "    activation = \"softmax\"\n",
    "))"
   ]
  },
  {
   "cell_type": "markdown",
   "metadata": {},
   "source": [
    "I tried adding another convolution+pooling couple of layers, but the results got way worse: during the first epoch of training the accuracy never reached 0.3 and then kept on decreasing.\n",
    "Maybe the parameters I chose were not quite right, but anyway using the configuration above gives pretty good results."
   ]
  },
  {
   "cell_type": "markdown",
   "metadata": {},
   "source": [
    "###### Network training\n",
    "I use the *adadelta* optimizer since it was the one that performed best in the previous exercise."
   ]
  },
  {
   "cell_type": "code",
   "execution_count": 4,
   "metadata": {},
   "outputs": [
    {
     "name": "stdout",
     "output_type": "stream",
     "text": [
      "Train on 60000 samples, validate on 10000 samples\n",
      "Epoch 1/6\n",
      "60000/60000 [==============================] - 27s 454us/step - loss: 0.2194 - acc: 0.9352 - val_loss: 0.1118 - val_acc: 0.9709\n",
      "Epoch 2/6\n",
      "60000/60000 [==============================] - 25s 415us/step - loss: 0.0988 - acc: 0.9711 - val_loss: 0.0769 - val_acc: 0.9781\n",
      "Epoch 3/6\n",
      "60000/60000 [==============================] - 29s 484us/step - loss: 0.0785 - acc: 0.9769 - val_loss: 0.0669 - val_acc: 0.9797\n",
      "Epoch 4/6\n",
      "60000/60000 [==============================] - 26s 428us/step - loss: 0.0694 - acc: 0.9795 - val_loss: 0.0554 - val_acc: 0.9821\n",
      "Epoch 5/6\n",
      "60000/60000 [==============================] - 28s 460us/step - loss: 0.0627 - acc: 0.9816 - val_loss: 0.0548 - val_acc: 0.9823\n",
      "Epoch 6/6\n",
      "60000/60000 [==============================] - 28s 466us/step - loss: 0.0594 - acc: 0.9820 - val_loss: 0.0514 - val_acc: 0.9833\n"
     ]
    }
   ],
   "source": [
    "from keras.optimizers import SGD\n",
    "\n",
    "batch_size = 32\n",
    "n_epochs = 6\n",
    "\n",
    "model.compile(\n",
    "   loss = keras.losses.categorical_crossentropy,\n",
    "   optimizer = \"adadelta\",\n",
    "   metrics = [\"accuracy\"]\n",
    ")\n",
    "\n",
    "# As the training advances, save the progress of the validation\n",
    "# in the \"history\" object.\n",
    "history = model.fit(\n",
    "    in_training,\n",
    "    out_training,\n",
    "    batch_size = batch_size,\n",
    "    epochs = n_epochs,\n",
    "    verbose = 1,\n",
    "    validation_data = (in_validation, out_validation)\n",
    ")"
   ]
  },
  {
   "cell_type": "markdown",
   "metadata": {},
   "source": [
    "###### Evaluation results"
   ]
  },
  {
   "cell_type": "code",
   "execution_count": 5,
   "metadata": {
    "scrolled": false
   },
   "outputs": [
    {
     "data": {
      "image/png": "[encoded data removed]",
      "text/plain": [
       "<Figure size 864x360 with 2 Axes>"
      ]
     },
     "metadata": {},
     "output_type": "display_data"
    }
   ],
   "source": [
    "fig, axes = plt.subplots(nrows = 1, ncols = 2, figsize = (12, 5))\n",
    "axes = axes.flatten()\n",
    "epochs = range(1, 7)\n",
    "\n",
    "axes[0].set_xlabel(\"Epoch\")\n",
    "axes[0].set_ylabel(\"Accuracy\")\n",
    "axes[0].plot(epochs, history.history[\"acc\"])\n",
    "axes[0].plot(epochs, history.history[\"val_acc\"])\n",
    "axes[0].legend([\"Training\", \"Validation\"])\n",
    "\n",
    "axes[1].set_xlabel(\"Epoch\")\n",
    "axes[1].set_ylabel(\"Loss\")\n",
    "axes[1].plot(epochs, history.history[\"loss\"])\n",
    "axes[1].plot(epochs, history.history[\"val_loss\"])\n",
    "axes[1].legend([\"Training\", \"Validation\"])\n",
    "\n",
    "fig.tight_layout()\n",
    "plt.show()"
   ]
  },
  {
   "cell_type": "markdown",
   "metadata": {},
   "source": [
    "After having run some simulations, it seemed to me that the validation accuracy peaked after six or seven epochs, same for the loss. Therefore, I set the network to train for six epochs only, to avoid overfitting issues."
   ]
  },
  {
   "cell_type": "markdown",
   "metadata": {},
   "source": [
    "###### Predictions\n",
    "Now that the network is trained, it can be used to guess some digits."
   ]
  },
  {
   "cell_type": "code",
   "execution_count": 6,
   "metadata": {},
   "outputs": [
    {
     "data": {
      "image/png": "[encoded data removed]",
      "text/plain": [
       "<Figure size 1080x1080 with 10 Axes>"
      ]
     },
     "metadata": {},
     "output_type": "display_data"
    }
   ],
   "source": [
    "test = in_validation.reshape(in_validation.shape[0], img_width, img_height, 1) #?\n",
    "\n",
    "fig, axes = plt.subplots(nrows = 1, ncols = 10, figsize = (15, 15))\n",
    "axes = axes.flatten()\n",
    "\n",
    "prediction = model.predict(in_validation)\n",
    "for i in range(10):\n",
    "    axes[i].imshow(test[i, :, :, 0], cmap = \"gray\")\n",
    "    axes[i].set_title(np.argmax(prediction[i]))\n",
    "    axes[i].axis(\"off\")\n",
    "\n",
    "fig.tight_layout()\n",
    "plt.show()"
   ]
  },
  {
   "cell_type": "markdown",
   "metadata": {},
   "source": [
    "Comparing it with the linear network that used the *adadelta* optimizer in the previous exercise, this convolutional neural network scores a higher accuracy and a lower loss. "
   ]
  },
  {
   "cell_type": "code",
   "execution_count": 7,
   "metadata": {},
   "outputs": [],
   "source": [
    "# Save the model to reuse it in the following exercise.\n",
    "save_model_path = \"digit_recognition_network\"\n",
    "model.save(filepath = save_model_path, include_optimizer = True)"
   ]
  }
 ],
 "metadata": {
  "kernelspec": {
   "display_name": "Python 3",
   "language": "python",
   "name": "python3"
  },
  "language_info": {
   "codemirror_mode": {
    "name": "ipython",
    "version": 3
   },
   "file_extension": ".py",
   "mimetype": "text/x-python",
   "name": "python",
   "nbconvert_exporter": "python",
   "pygments_lexer": "ipython3",
   "version": "3.6.8"
  }
 },
 "nbformat": 4,
 "nbformat_minor": 2
}
