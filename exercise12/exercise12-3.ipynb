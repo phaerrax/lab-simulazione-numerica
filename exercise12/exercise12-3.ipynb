{
 "cells": [
  {
   "cell_type": "code",
   "execution_count": 12,
   "metadata": {},
   "outputs": [],
   "source": [
    "import tensorflow as tf\n",
    "from tensorflow import keras\n",
    "import os\n",
    "import numpy as np\n",
    "from matplotlib import pyplot as plt\n",
    "from PIL import Image\n",
    "\n",
    "# Initialise random number generators.\n",
    "seed = 0\n",
    "np.random.seed(seed)\n",
    "tf.set_random_seed(seed)"
   ]
  },
  {
   "cell_type": "code",
   "execution_count": 10,
   "metadata": {},
   "outputs": [],
   "source": [
    "model = tf.keras.models.load_model(filepath = \"digit_recognition_network\")"
   ]
  },
  {
   "cell_type": "code",
   "execution_count": 44,
   "metadata": {
    "scrolled": false
   },
   "outputs": [
    {
     "data": {
      "image/png": "[encoded data removed]",
      "text/plain": [
       "<Figure size 720x288 with 10 Axes>"
      ]
     },
     "metadata": {
      "needs_background": "light"
     },
     "output_type": "display_data"
    }
   ],
   "source": [
    "prefix = \"digits/\"\n",
    "suffix = \".png\"\n",
    "digits = [str(d) for d in range(10)]\n",
    "img_width = 28\n",
    "img_height = 28\n",
    "\n",
    "fig, axes = plt.subplots(nrows = 2, ncols = 5, figsize = (2 * 5, 2 * 2))\n",
    "axes = axes.flatten()\n",
    "\n",
    "for d_count, digit in zip(range(10), digits):\n",
    "    filename = prefix + digit + suffix\n",
    "    digit_image = Image.open(filename).convert('L')\n",
    "\n",
    "    ydim, xdim = digit_image.size\n",
    "    pix = digit_image.load()\n",
    "    data = np.zeros((xdim, ydim))\n",
    "    # pix is not a np array, so I cannot\n",
    "    # just write data = pix.T\n",
    "    for j in range(ydim):\n",
    "        for i in range(xdim):\n",
    "            data[i,j] = pix[j,i]\n",
    "\n",
    "    # Rescale the data from [0, 255] to [0, 1].\n",
    "    data /= 255\n",
    "    axes[d_count].imshow(data, cmap = \"gray\")\n",
    "\n",
    "    # Reshape the input data.\n",
    "    # The first argument for \"reshape\" is the number of samples,\n",
    "    # so here it is just 1. See exercise 12.2 notebook.\n",
    "    if keras.backend.image_data_format() == \"channels_first\":\n",
    "        data = data.reshape(1, 1, img_width, img_height)\n",
    "    else:\n",
    "        data = data.reshape(1, img_width, img_height, 1)\n",
    "    \n",
    "    axes[d_count].axis(\"off\")\n",
    "    axes[d_count].set_title(\"Predicted: \" + str(np.argmax(model.predict(data))))\n",
    "\n",
    "fig.tight_layout()\n",
    "plt.show()"
   ]
  },
  {
   "cell_type": "markdown",
   "metadata": {},
   "source": [
    "It didn't go really well. I guess the reason is - as can be seen in the previous notebook - my handwriting may be different from the typical shape of the digits of the input data in the MNIST database (right in correspondence with the digits it failed to recognise).\n",
    "It would say that the network f*ailed to generalise* the MNIST data."
   ]
  },
  {
   "cell_type": "code",
   "execution_count": null,
   "metadata": {},
   "outputs": [],
   "source": []
  }
 ],
 "metadata": {
  "kernelspec": {
   "display_name": "Python 3",
   "language": "python",
   "name": "python3"
  },
  "language_info": {
   "codemirror_mode": {
    "name": "ipython",
    "version": 3
   },
   "file_extension": ".py",
   "mimetype": "text/x-python",
   "name": "python",
   "nbconvert_exporter": "python",
   "pygments_lexer": "ipython3",
   "version": "3.6.8"
  }
 },
 "nbformat": 4,
 "nbformat_minor": 2
}
